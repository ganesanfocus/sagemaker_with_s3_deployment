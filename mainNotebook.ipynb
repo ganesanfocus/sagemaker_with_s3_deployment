{
 "cells": [
  {
   "cell_type": "code",
   "execution_count": 31,
   "id": "7d955ca6-a705-46e0-9caf-9b3742dd169b",
   "metadata": {
    "execution": {
     "iopub.execute_input": "2025-08-31T13:40:15.285237Z",
     "iopub.status.busy": "2025-08-31T13:40:15.284952Z",
     "iopub.status.idle": "2025-08-31T13:40:15.425520Z",
     "shell.execute_reply": "2025-08-31T13:40:15.424886Z",
     "shell.execute_reply.started": "2025-08-31T13:40:15.285214Z"
    }
   },
   "outputs": [
    {
     "name": "stdout",
     "output_type": "stream",
     "text": [
      " File uploaded to your bucket at: s3://insurance-hope-prediction-v3/insurance-data-hope/insurance_pre.csv\n"
     ]
    }
   ],
   "source": [
    "import boto3\n",
    "import  sagemaker\n",
    "from sagemaker import get_execution_role\n",
    "\n",
    "# set custom bucket\n",
    "bucket = 'insurance-hope-prediction-v3'\n",
    "prefix = 'insurance-data-hope'\n",
    "role   = get_execution_role()\n",
    "\n",
    "# local fine upload\n",
    "local_file = 'insurance_pre.csv'\n",
    "\n",
    "# upload file to your specific bucket\n",
    "session = sagemaker.Session()\n",
    "s3_path = session.upload_data(path=local_file, bucket=bucket, key_prefix=prefix)\n",
    "\n",
    "from utils import append_to_file\n",
    "append_to_file(\"output.txt\", \"s3-path\", s3_path)\n",
    "print(f\" File uploaded to your bucket at: {s3_path}\")"
   ]
  },
  {
   "cell_type": "code",
   "execution_count": 32,
   "id": "65781728-8c93-495c-bdb6-3bc65aed8ddf",
   "metadata": {
    "execution": {
     "iopub.execute_input": "2025-08-31T13:40:18.001685Z",
     "iopub.status.busy": "2025-08-31T13:40:18.001381Z",
     "iopub.status.idle": "2025-08-31T13:40:18.032139Z",
     "shell.execute_reply": "2025-08-31T13:40:18.031342Z",
     "shell.execute_reply.started": "2025-08-31T13:40:18.001659Z"
    }
   },
   "outputs": [
    {
     "name": "stdout",
     "output_type": "stream",
     "text": [
      "arn:aws:iam::257034520069:role/service-role/AmazonSageMaker-ExecutionRole-20250828T171031\n"
     ]
    }
   ],
   "source": [
    "import sagemaker\n",
    "\n",
    "print(sagemaker.get_execution_role())\n"
   ]
  },
  {
   "cell_type": "code",
   "execution_count": null,
   "id": "1a701280-e233-4122-a9f0-e1211ec3b1af",
   "metadata": {},
   "outputs": [],
   "source": [
    "\"\"\"\n",
    "# For s3 bucket permission rule add  in your bucket\n",
    "{\n",
    "  \"Version\": \"2012-10-17\",\n",
    "  \"Statement\": [\n",
    "    {\n",
    "      \"Sid\": \"AllowSageMakerRoleAccess\",\n",
    "      \"Effect\": \"Allow\",\n",
    "      \"Principal\": {\n",
    "        \"AWS\": \"arn:aws:iam::257034520069:role/service-role/AmazonSageMaker-ExecutionRole-20250828T171031\"\n",
    "      },\n",
    "      \"Action\": [\n",
    "        \"s3:PutObject\",\n",
    "        \"s3:GetObject\",\n",
    "        \"s3:ListBucket\"\n",
    "      ],\n",
    "      \"Resource\": [\n",
    "        \"arn:aws:s3:::insurance-hope-prediction-v3\",\n",
    "        \"arn:aws:s3:::insurance-hope-prediction-v3/*\"\n",
    "      ]\n",
    "    }\n",
    "  ]\n",
    "}\n",
    "\n",
    "\"\"\"\n",
    "\n",
    "\"\"\"\n",
    "Option - 2 For create policy in IAM Role\n",
    "    {\n",
    "    \t\"Version\": \"2012-10-17\",\n",
    "    \t\"Statement\": [\n",
    "    \t\t{\n",
    "    \t\t\t\"Effect\": \"Allow\",\n",
    "    \t\t\t\"Action\": [\n",
    "    \t\t\t\t\"s3:PutObject\",\n",
    "    \t\t\t\t\"s3:GetObject\",\n",
    "    \t\t\t\t\"s3:ListObject\"\n",
    "    \t\t\t],\n",
    "    \t\t\t\"Resource\": [\n",
    "    \t\t\t\t\"arn:aws:s3:::insurance-hope-prediction-v3\",\n",
    "    \t\t\t\t\"arn:aws:s3:::insurance-hope-prediction-v3/*\"\n",
    "    \t\t\t]\n",
    "    \t\t}\n",
    "    \t]\n",
    "    }\n",
    "\n",
    "\"\"\"\n"
   ]
  },
  {
   "cell_type": "code",
   "execution_count": 33,
   "id": "320f803c-1aa2-4935-a193-8555d0e2b79b",
   "metadata": {
    "execution": {
     "iopub.execute_input": "2025-08-31T13:40:22.260735Z",
     "iopub.status.busy": "2025-08-31T13:40:22.260424Z",
     "iopub.status.idle": "2025-08-31T13:43:09.821977Z",
     "shell.execute_reply": "2025-08-31T13:43:09.821449Z",
     "shell.execute_reply.started": "2025-08-31T13:40:22.260711Z"
    },
    "scrolled": true
   },
   "outputs": [
    {
     "name": "stderr",
     "output_type": "stream",
     "text": [
      "INFO:sagemaker.telemetry.telemetry_logging:SageMaker Python SDK will collect telemetry to help us better understand our user's needs, diagnose issues, and deliver additional features.\n",
      "To opt out of telemetry, please disable via TelemetryOptOut parameter in SDK defaults config. For more information, refer to https://sagemaker.readthedocs.io/en/stable/overview.html#configuring-and-using-defaults-with-the-sagemaker-python-sdk.\n",
      "INFO:sagemaker:Creating training-job with name: sagemaker-scikit-learn-2025-08-31-13-40-22-984\n"
     ]
    },
    {
     "name": "stdout",
     "output_type": "stream",
     "text": [
      "2025-08-31 13:40:26 Starting - Starting the training job...\n",
      "2025-08-31 13:40:41 Starting - Preparing the instances for training...\n",
      "2025-08-31 13:40:59 Downloading - Downloading input data...\n",
      "2025-08-31 13:41:29 Downloading - Downloading the training image...\n",
      "2025-08-31 13:42:25 Training - Training image download completed. Training in progress..\u001b[34m/miniconda3/lib/python3.9/site-packages/sagemaker_containers/_server.py:22: UserWarning: pkg_resources is deprecated as an API. See https://setuptools.pypa.io/en/latest/pkg_resources.html. The pkg_resources package is slated for removal as early as 2025-11-30. Refrain from using this package or pin to Setuptools<81.\n",
      "  import pkg_resources\u001b[0m\n",
      "\u001b[34m2025-08-31 13:42:30,042 sagemaker-containers INFO     Imported framework sagemaker_sklearn_container.training\u001b[0m\n",
      "\u001b[34m2025-08-31 13:42:30,046 sagemaker-training-toolkit INFO     No GPUs detected (normal if no gpus installed)\u001b[0m\n",
      "\u001b[34m2025-08-31 13:42:30,048 sagemaker-training-toolkit INFO     No Neurons detected (normal if no neurons installed)\u001b[0m\n",
      "\u001b[34m2025-08-31 13:42:30,064 sagemaker_sklearn_container.training INFO     Invoking user training script.\u001b[0m\n",
      "\u001b[34m2025-08-31 13:42:30,356 sagemaker-training-toolkit INFO     No GPUs detected (normal if no gpus installed)\u001b[0m\n",
      "\u001b[34m2025-08-31 13:42:30,359 sagemaker-training-toolkit INFO     No Neurons detected (normal if no neurons installed)\u001b[0m\n",
      "\u001b[34m2025-08-31 13:42:30,376 sagemaker-training-toolkit INFO     No GPUs detected (normal if no gpus installed)\u001b[0m\n",
      "\u001b[34m2025-08-31 13:42:30,379 sagemaker-training-toolkit INFO     No Neurons detected (normal if no neurons installed)\u001b[0m\n",
      "\u001b[34m2025-08-31 13:42:30,395 sagemaker-training-toolkit INFO     No GPUs detected (normal if no gpus installed)\u001b[0m\n",
      "\u001b[34m2025-08-31 13:42:30,397 sagemaker-training-toolkit INFO     No Neurons detected (normal if no neurons installed)\u001b[0m\n",
      "\u001b[34m2025-08-31 13:42:30,411 sagemaker-training-toolkit INFO     Invoking user script\u001b[0m\n",
      "\u001b[34mTraining Env:\u001b[0m\n",
      "\u001b[34m{\n",
      "    \"additional_framework_parameters\": {},\n",
      "    \"channel_input_dirs\": {\n",
      "        \"train\": \"/opt/ml/input/data/train\"\n",
      "    },\n",
      "    \"current_host\": \"algo-1\",\n",
      "    \"current_instance_group\": \"homogeneousCluster\",\n",
      "    \"current_instance_group_hosts\": [\n",
      "        \"algo-1\"\n",
      "    ],\n",
      "    \"current_instance_type\": \"ml.m5.large\",\n",
      "    \"distribution_hosts\": [],\n",
      "    \"distribution_instance_groups\": [],\n",
      "    \"framework_module\": \"sagemaker_sklearn_container.training:main\",\n",
      "    \"hosts\": [\n",
      "        \"algo-1\"\n",
      "    ],\n",
      "    \"hyperparameters\": {},\n",
      "    \"input_config_dir\": \"/opt/ml/input/config\",\n",
      "    \"input_data_config\": {\n",
      "        \"train\": {\n",
      "            \"TrainingInputMode\": \"File\",\n",
      "            \"S3DistributionType\": \"FullyReplicated\",\n",
      "            \"RecordWrapperType\": \"None\"\n",
      "        }\n",
      "    },\n",
      "    \"input_dir\": \"/opt/ml/input\",\n",
      "    \"instance_groups\": [\n",
      "        \"homogeneousCluster\"\n",
      "    ],\n",
      "    \"instance_groups_dict\": {\n",
      "        \"homogeneousCluster\": {\n",
      "            \"instance_group_name\": \"homogeneousCluster\",\n",
      "            \"instance_type\": \"ml.m5.large\",\n",
      "            \"hosts\": [\n",
      "                \"algo-1\"\n",
      "            ]\n",
      "        }\n",
      "    },\n",
      "    \"is_hetero\": false,\n",
      "    \"is_master\": true,\n",
      "    \"is_modelparallel_enabled\": null,\n",
      "    \"is_smddpmprun_installed\": false,\n",
      "    \"is_smddprun_installed\": false,\n",
      "    \"job_name\": \"sagemaker-scikit-learn-2025-08-31-13-40-22-984\",\n",
      "    \"log_level\": 20,\n",
      "    \"master_hostname\": \"algo-1\",\n",
      "    \"model_dir\": \"/opt/ml/model\",\n",
      "    \"module_dir\": \"s3://insurance-hope-prediction-v3/sagemaker-scikit-learn-2025-08-31-13-40-22-984/source/sourcedir.tar.gz\",\n",
      "    \"module_name\": \"train\",\n",
      "    \"network_interface_name\": \"eth0\",\n",
      "    \"num_cpus\": 2,\n",
      "    \"num_gpus\": 0,\n",
      "    \"num_neurons\": 0,\n",
      "    \"output_data_dir\": \"/opt/ml/output/data\",\n",
      "    \"output_dir\": \"/opt/ml/output\",\n",
      "    \"output_intermediate_dir\": \"/opt/ml/output/intermediate\",\n",
      "    \"resource_config\": {\n",
      "        \"current_host\": \"algo-1\",\n",
      "        \"current_instance_type\": \"ml.m5.large\",\n",
      "        \"current_group_name\": \"homogeneousCluster\",\n",
      "        \"hosts\": [\n",
      "            \"algo-1\"\n",
      "        ],\n",
      "        \"instance_groups\": [\n",
      "            {\n",
      "                \"instance_group_name\": \"homogeneousCluster\",\n",
      "                \"instance_type\": \"ml.m5.large\",\n",
      "                \"hosts\": [\n",
      "                    \"algo-1\"\n",
      "                ]\n",
      "            }\n",
      "        ],\n",
      "        \"network_interface_name\": \"eth0\",\n",
      "        \"topology\": null\n",
      "    },\n",
      "    \"user_entry_point\": \"train.py\"\u001b[0m\n",
      "\u001b[34m}\u001b[0m\n",
      "\u001b[34mEnvironment variables:\u001b[0m\n",
      "\u001b[34mSM_HOSTS=[\"algo-1\"]\u001b[0m\n",
      "\u001b[34mSM_NETWORK_INTERFACE_NAME=eth0\u001b[0m\n",
      "\u001b[34mSM_HPS={}\u001b[0m\n",
      "\u001b[34mSM_USER_ENTRY_POINT=train.py\u001b[0m\n",
      "\u001b[34mSM_FRAMEWORK_PARAMS={}\u001b[0m\n",
      "\u001b[34mSM_RESOURCE_CONFIG={\"current_group_name\":\"homogeneousCluster\",\"current_host\":\"algo-1\",\"current_instance_type\":\"ml.m5.large\",\"hosts\":[\"algo-1\"],\"instance_groups\":[{\"hosts\":[\"algo-1\"],\"instance_group_name\":\"homogeneousCluster\",\"instance_type\":\"ml.m5.large\"}],\"network_interface_name\":\"eth0\",\"topology\":null}\u001b[0m\n",
      "\u001b[34mSM_INPUT_DATA_CONFIG={\"train\":{\"RecordWrapperType\":\"None\",\"S3DistributionType\":\"FullyReplicated\",\"TrainingInputMode\":\"File\"}}\u001b[0m\n",
      "\u001b[34mSM_OUTPUT_DATA_DIR=/opt/ml/output/data\u001b[0m\n",
      "\u001b[34mSM_CHANNELS=[\"train\"]\u001b[0m\n",
      "\u001b[34mSM_CURRENT_HOST=algo-1\u001b[0m\n",
      "\u001b[34mSM_CURRENT_INSTANCE_TYPE=ml.m5.large\u001b[0m\n",
      "\u001b[34mSM_CURRENT_INSTANCE_GROUP=homogeneousCluster\u001b[0m\n",
      "\u001b[34mSM_CURRENT_INSTANCE_GROUP_HOSTS=[\"algo-1\"]\u001b[0m\n",
      "\u001b[34mSM_INSTANCE_GROUPS=[\"homogeneousCluster\"]\u001b[0m\n",
      "\u001b[34mSM_INSTANCE_GROUPS_DICT={\"homogeneousCluster\":{\"hosts\":[\"algo-1\"],\"instance_group_name\":\"homogeneousCluster\",\"instance_type\":\"ml.m5.large\"}}\u001b[0m\n",
      "\u001b[34mSM_DISTRIBUTION_INSTANCE_GROUPS=[]\u001b[0m\n",
      "\u001b[34mSM_IS_HETERO=false\u001b[0m\n",
      "\u001b[34mSM_MODULE_NAME=train\u001b[0m\n",
      "\u001b[34mSM_LOG_LEVEL=20\u001b[0m\n",
      "\u001b[34mSM_FRAMEWORK_MODULE=sagemaker_sklearn_container.training:main\u001b[0m\n",
      "\u001b[34mSM_INPUT_DIR=/opt/ml/input\u001b[0m\n",
      "\u001b[34mSM_INPUT_CONFIG_DIR=/opt/ml/input/config\u001b[0m\n",
      "\u001b[34mSM_OUTPUT_DIR=/opt/ml/output\u001b[0m\n",
      "\u001b[34mSM_NUM_CPUS=2\u001b[0m\n",
      "\u001b[34mSM_NUM_GPUS=0\u001b[0m\n",
      "\u001b[34mSM_NUM_NEURONS=0\u001b[0m\n",
      "\u001b[34mSM_MODEL_DIR=/opt/ml/model\u001b[0m\n",
      "\u001b[34mSM_MODULE_DIR=s3://insurance-hope-prediction-v3/sagemaker-scikit-learn-2025-08-31-13-40-22-984/source/sourcedir.tar.gz\u001b[0m\n",
      "\u001b[34mSM_TRAINING_ENV={\"additional_framework_parameters\":{},\"channel_input_dirs\":{\"train\":\"/opt/ml/input/data/train\"},\"current_host\":\"algo-1\",\"current_instance_group\":\"homogeneousCluster\",\"current_instance_group_hosts\":[\"algo-1\"],\"current_instance_type\":\"ml.m5.large\",\"distribution_hosts\":[],\"distribution_instance_groups\":[],\"framework_module\":\"sagemaker_sklearn_container.training:main\",\"hosts\":[\"algo-1\"],\"hyperparameters\":{},\"input_config_dir\":\"/opt/ml/input/config\",\"input_data_config\":{\"train\":{\"RecordWrapperType\":\"None\",\"S3DistributionType\":\"FullyReplicated\",\"TrainingInputMode\":\"File\"}},\"input_dir\":\"/opt/ml/input\",\"instance_groups\":[\"homogeneousCluster\"],\"instance_groups_dict\":{\"homogeneousCluster\":{\"hosts\":[\"algo-1\"],\"instance_group_name\":\"homogeneousCluster\",\"instance_type\":\"ml.m5.large\"}},\"is_hetero\":false,\"is_master\":true,\"is_modelparallel_enabled\":null,\"is_smddpmprun_installed\":false,\"is_smddprun_installed\":false,\"job_name\":\"sagemaker-scikit-learn-2025-08-31-13-40-22-984\",\"log_level\":20,\"master_hostname\":\"algo-1\",\"model_dir\":\"/opt/ml/model\",\"module_dir\":\"s3://insurance-hope-prediction-v3/sagemaker-scikit-learn-2025-08-31-13-40-22-984/source/sourcedir.tar.gz\",\"module_name\":\"train\",\"network_interface_name\":\"eth0\",\"num_cpus\":2,\"num_gpus\":0,\"num_neurons\":0,\"output_data_dir\":\"/opt/ml/output/data\",\"output_dir\":\"/opt/ml/output\",\"output_intermediate_dir\":\"/opt/ml/output/intermediate\",\"resource_config\":{\"current_group_name\":\"homogeneousCluster\",\"current_host\":\"algo-1\",\"current_instance_type\":\"ml.m5.large\",\"hosts\":[\"algo-1\"],\"instance_groups\":[{\"hosts\":[\"algo-1\"],\"instance_group_name\":\"homogeneousCluster\",\"instance_type\":\"ml.m5.large\"}],\"network_interface_name\":\"eth0\",\"topology\":null},\"user_entry_point\":\"train.py\"}\u001b[0m\n",
      "\u001b[34mSM_USER_ARGS=[]\u001b[0m\n",
      "\u001b[34mSM_OUTPUT_INTERMEDIATE_DIR=/opt/ml/output/intermediate\u001b[0m\n",
      "\u001b[34mSM_CHANNEL_TRAIN=/opt/ml/input/data/train\u001b[0m\n",
      "\u001b[34mPYTHONPATH=/opt/ml/code:/miniconda3/bin:/miniconda3/lib/python39.zip:/miniconda3/lib/python3.9:/miniconda3/lib/python3.9/lib-dynload:/miniconda3/lib/python3.9/site-packages:/miniconda3/lib/python3.9/site-packages/setuptools/_vendor\u001b[0m\n",
      "\u001b[34mInvoking script with the following command:\u001b[0m\n",
      "\u001b[34m/miniconda3/bin/python train.py\u001b[0m\n",
      "\u001b[34m2025-08-31 13:42:30,412 sagemaker-training-toolkit INFO     Exceptions not imported for SageMaker Debugger as it is not installed.\u001b[0m\n",
      "\u001b[34m2025-08-31 13:42:30,413 sagemaker-training-toolkit INFO     Exceptions not imported for SageMaker TF as Tensorflow is not installed.\u001b[0m\n",
      "\u001b[34mAfter Get Dummies column names are: ['age', 'bmi', 'children', 'sex_male', 'smoker_yes']\u001b[0m\n",
      "\u001b[34mR2 Values : 0.858951554197873\u001b[0m\n",
      "\u001b[34mModel saved successfully!\u001b[0m\n",
      "\u001b[34m2025-08-31 13:42:31,561 sagemaker-containers INFO     Reporting training SUCCESS\u001b[0m\n",
      "\n",
      "2025-08-31 13:42:48 Uploading - Uploading generated training model\n",
      "2025-08-31 13:42:48 Completed - Training job completed\n",
      "Training seconds: 109\n",
      "Billable seconds: 109\n"
     ]
    }
   ],
   "source": [
    "import sagemaker\n",
    "from sagemaker.sklearn.estimator import SKLearn\n",
    "from sagemaker import get_execution_role\n",
    "\n",
    "from utils import append_to_file\n",
    "session = sagemaker.Session()\n",
    "role = get_execution_role()\n",
    "bucket = 'insurance-hope-prediction-v3'\n",
    "prefix = 'insurance-data-hope'\n",
    "\n",
    "sklearn_estimator = SKLearn(\n",
    "    entry_point=\"train.py\",\n",
    "    role = role,\n",
    "    instance_type = \"ml.m5.large\",\n",
    "    framework_version=\"1.2-1\",\n",
    "    py_version=\"py3\",\n",
    "    output_path = f\"s3://{bucket}/{prefix}/output\",\n",
    "    sagemaker_session=session\n",
    ")\n",
    "# append_to_file(\"output.txt\", \"framework_version 1.2-1\")\n",
    "\n",
    "# start training\n",
    "sklearn_estimator.fit({\"train\": f\"s3://insurance-hope-prediction-v3/insurance-data-hope/\"})"
   ]
  },
  {
   "cell_type": "code",
   "execution_count": 38,
   "id": "980c5a01-ccdc-47c4-9e2f-ea5b347325e7",
   "metadata": {
    "execution": {
     "iopub.execute_input": "2025-08-31T13:49:47.302262Z",
     "iopub.status.busy": "2025-08-31T13:49:47.301983Z",
     "iopub.status.idle": "2025-08-31T13:49:47.402578Z",
     "shell.execute_reply": "2025-08-31T13:49:47.401581Z",
     "shell.execute_reply.started": "2025-08-31T13:49:47.302240Z"
    }
   },
   "outputs": [
    {
     "name": "stdout",
     "output_type": "stream",
     "text": [
      "662702820516.dkr.ecr.eu-north-1.amazonaws.com/sagemaker-scikit-learn:1.2-1-cpu-py3\n",
      "s3://insurance-hope-prediction-v3/insurance-data-hope/output/sagemaker-scikit-learn-2025-08-31-13-40-22-984/output/model.tar.gz\n"
     ]
    }
   ],
   "source": [
    "image_uri = sklearn_estimator.training_image_uri()\n",
    "print(image_uri)\n",
    "\n",
    "model_s3_uri = sklearn_estimator.model_data\n",
    "print(model_s3_uri)"
   ]
  },
  {
   "cell_type": "code",
   "execution_count": 39,
   "id": "a7a5ea89-f366-42b1-9980-a59a0349f0f8",
   "metadata": {
    "execution": {
     "iopub.execute_input": "2025-08-31T13:49:54.307856Z",
     "iopub.status.busy": "2025-08-31T13:49:54.307583Z",
     "iopub.status.idle": "2025-08-31T13:49:54.311775Z",
     "shell.execute_reply": "2025-08-31T13:49:54.311109Z",
     "shell.execute_reply.started": "2025-08-31T13:49:54.307834Z"
    }
   },
   "outputs": [
    {
     "name": "stdout",
     "output_type": "stream",
     "text": [
      "model block loaded\n"
     ]
    }
   ],
   "source": [
    "from  sagemaker.sklearn.model import  SKLearnModel\n",
    "model = SKLearnModel(\n",
    "    model_data = model_s3_uri,\n",
    "    role = role,\n",
    "    entry_point=\"inference.py\",\n",
    "    framework_version=\"1.2-1\",\n",
    "    py_version=\"py3\",\n",
    "    sagemaker_session=session\n",
    ")\n",
    "print(\"model block loaded\")"
   ]
  },
  {
   "cell_type": "code",
   "execution_count": 49,
   "id": "306c998f-3f45-40c7-ae4f-096f4ade5b3e",
   "metadata": {
    "execution": {
     "iopub.execute_input": "2025-08-31T14:26:59.028551Z",
     "iopub.status.busy": "2025-08-31T14:26:59.028262Z",
     "iopub.status.idle": "2025-08-31T14:30:31.057124Z",
     "shell.execute_reply": "2025-08-31T14:30:31.056364Z",
     "shell.execute_reply.started": "2025-08-31T14:26:59.028530Z"
    }
   },
   "outputs": [
    {
     "name": "stderr",
     "output_type": "stream",
     "text": [
      "INFO:sagemaker:Creating model with name: sagemaker-scikit-learn-2025-08-31-14-26-59-169\n",
      "INFO:sagemaker:Creating endpoint-config with name insurance-charge-endpoint-v4\n",
      "INFO:sagemaker:Creating endpoint with name insurance-charge-endpoint-v4\n"
     ]
    },
    {
     "name": "stdout",
     "output_type": "stream",
     "text": [
      "------!"
     ]
    }
   ],
   "source": [
    "predictor = model.deploy(\n",
    "    instance_type='ml.m5.large',\n",
    "    initial_instance_count=1,\n",
    "    endpoint_name='insurance-charge-endpoint-v4'  # change version\n",
    ")\n"
   ]
  },
  {
   "cell_type": "code",
   "execution_count": 55,
   "id": "57dac5dd-6eaa-4a98-8824-a8c45decece5",
   "metadata": {
    "execution": {
     "iopub.execute_input": "2025-08-31T14:50:00.319705Z",
     "iopub.status.busy": "2025-08-31T14:50:00.319421Z",
     "iopub.status.idle": "2025-08-31T14:50:00.324678Z",
     "shell.execute_reply": "2025-08-31T14:50:00.323840Z",
     "shell.execute_reply.started": "2025-08-31T14:50:00.319684Z"
    }
   },
   "outputs": [
    {
     "name": "stdout",
     "output_type": "stream",
     "text": [
      "Function successfully added\n"
     ]
    }
   ],
   "source": [
    "import json\n",
    "from sagemaker.serializers import JSONSerializer\n",
    "from sagemaker.deserializers import JSONDeserializer\n",
    "\n",
    "def predict_insurance_charge(predictor, age, bmi, children, sex_male, smoker_yes):\n",
    "    predictor.serializer = JSONSerializer()\n",
    "    predictor.deserializer = JSONDeserializer()\n",
    "    # Send as 2D array - matches the column order from training\n",
    "    input_data = [[age, bmi, children, sex_male, smoker_yes]]\n",
    "    prediction = predictor.predict(input_data)\n",
    "    return prediction\n",
    "    \n",
    "print(\"Function successfully added\")    "
   ]
  },
  {
   "cell_type": "code",
   "execution_count": null,
   "id": "254ad7f7-12af-488e-b97d-9c0974d7c72a",
   "metadata": {},
   "outputs": [],
   "source": [
    "# from delete_endpoint import delete_endpoints\n",
    "# aa = delete_endpoints()\n",
    "# print(aa)"
   ]
  },
  {
   "cell_type": "code",
   "execution_count": 56,
   "id": "ed68a747-5a83-4bce-8c48-77a154778815",
   "metadata": {
    "execution": {
     "iopub.execute_input": "2025-08-31T14:50:04.834704Z",
     "iopub.status.busy": "2025-08-31T14:50:04.834439Z",
     "iopub.status.idle": "2025-08-31T14:50:04.929683Z",
     "shell.execute_reply": "2025-08-31T14:50:04.929062Z",
     "shell.execute_reply.started": "2025-08-31T14:50:04.834682Z"
    }
   },
   "outputs": [],
   "source": [
    "result = predict_insurance_charge(predictor, age=35, bmi=28.4, children=2,\n",
    "                                  sex_male=1,\n",
    "                                  smoker_yes=0)\n",
    "print(\"Predicted charge:\", result)"
   ]
  }
 ],
 "metadata": {
  "kernelspec": {
   "display_name": "Python 3 (ipykernel)",
   "language": "python",
   "name": "python3"
  },
  "language_info": {
   "codemirror_mode": {
    "name": "ipython",
    "version": 3
   },
   "file_extension": ".py",
   "mimetype": "text/x-python",
   "name": "python",
   "nbconvert_exporter": "python",
   "pygments_lexer": "ipython3",
   "version": "3.12.9"
  }
 },
 "nbformat": 4,
 "nbformat_minor": 5
}
